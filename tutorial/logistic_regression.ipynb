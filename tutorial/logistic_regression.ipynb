{
  "nbformat": 4,
  "nbformat_minor": 0,
  "metadata": {
    "colab": {
      "provenance": []
    },
    "kernelspec": {
      "name": "python3",
      "display_name": "Python 3"
    },
    "language_info": {
      "name": "python"
    }
  },
  "cells": [
    {
      "cell_type": "code",
      "execution_count": 22,
      "metadata": {
        "id": "pL4jQfIxBX-m"
      },
      "outputs": [],
      "source": [
        "import torch\n",
        "import torch.nn as nn\n",
        "import numpy as np\n",
        "from sklearn import datasets\n",
        "from sklearn.preprocessing import StandardScaler\n",
        "from sklearn.model_selection import train_test_split\n",
        "from matplotlib import pyplot as plt"
      ]
    },
    {
      "cell_type": "code",
      "source": [
        "# Get the Data\n",
        "bc = datasets.load_breast_cancer()\n",
        "X, y = bc.data, bc.target\n",
        "\n",
        "n_samples, n_features = X.shape\n",
        "X_train, X_test, y_train, y_test = train_test_split(X, y, test_size=0.2, random_state=1)\n",
        "\n",
        "# Data Scaling with mean 0, for normal distribution\n",
        "sc = StandardScaler()\n",
        "X_train = sc.fit_transform(X_train)\n",
        "X_test = sc.transform(X_test)\n",
        "\n",
        "# Tensor conversion\n",
        "X_train = torch.from_numpy(X_train.astype(np.float32))\n",
        "X_test = torch.from_numpy(X_test.astype(np.float32))\n",
        "y_train = torch.from_numpy(y_train.astype(np.float32))\n",
        "y_test = torch.from_numpy(y_test.astype(np.float32))\n",
        "\n",
        "# 1d to column vector\n",
        "y_train = y_train.view(y_train.shape[0], 1)\n",
        "y_test = y_test.view(y_test.shape[0], 1)\n",
        "\n"
      ],
      "metadata": {
        "id": "4y67IdWsGR1X"
      },
      "execution_count": 23,
      "outputs": []
    },
    {
      "cell_type": "code",
      "source": [
        "# Model Creation\n",
        "class LogisticRegression(nn.Module):\n",
        "  def __init__(self, n_input_features):\n",
        "    super(LogisticRegression, self).__init__()\n",
        "    self.linear = nn.Linear(in_features=n_input_features, out_features=1)\n",
        "\n",
        "  def forward(self, x):\n",
        "    y_predicted = torch.sigmoid(self.linear(x))\n",
        "    return y_predicted\n",
        "\n",
        "model = LogisticRegression(n_features)\n",
        "\n",
        "# loss and optimizer\n",
        "eta = 0.40\n",
        "criterion = nn.BCELoss()\n",
        "optimizer = torch.optim.SGD(params=model.parameters(), lr=eta)"
      ],
      "metadata": {
        "id": "hN7EZM7PIyCE"
      },
      "execution_count": 24,
      "outputs": []
    },
    {
      "cell_type": "code",
      "source": [
        "# Training Loop\n",
        "n_epoch = 500\n",
        "\n",
        "for epoch in range(n_epoch):\n",
        "  y_hat = model(X_train)\n",
        "  loss = criterion(y_hat, y_train)\n",
        "  loss.backward()\n",
        "  optimizer.step()\n",
        "  optimizer.zero_grad()\n",
        "\n",
        "  if (epoch+1) % 10 == 0:\n",
        "    print(f'epoch: {epoch} | loss: {loss.item():.4f}')"
      ],
      "metadata": {
        "colab": {
          "base_uri": "https://localhost:8080/"
        },
        "id": "eNNgIDdQL8zX",
        "outputId": "df41bd74-350e-45a8-cf1d-1f60354e99ec"
      },
      "execution_count": 25,
      "outputs": [
        {
          "output_type": "stream",
          "name": "stdout",
          "text": [
            "epoch: 9 | loss: 0.1367\n",
            "epoch: 19 | loss: 0.1069\n",
            "epoch: 29 | loss: 0.0944\n",
            "epoch: 39 | loss: 0.0871\n",
            "epoch: 49 | loss: 0.0823\n",
            "epoch: 59 | loss: 0.0787\n",
            "epoch: 69 | loss: 0.0760\n",
            "epoch: 79 | loss: 0.0738\n",
            "epoch: 89 | loss: 0.0719\n",
            "epoch: 99 | loss: 0.0704\n",
            "epoch: 109 | loss: 0.0691\n",
            "epoch: 119 | loss: 0.0679\n",
            "epoch: 129 | loss: 0.0669\n",
            "epoch: 139 | loss: 0.0659\n",
            "epoch: 149 | loss: 0.0651\n",
            "epoch: 159 | loss: 0.0643\n",
            "epoch: 169 | loss: 0.0636\n",
            "epoch: 179 | loss: 0.0630\n",
            "epoch: 189 | loss: 0.0624\n",
            "epoch: 199 | loss: 0.0619\n",
            "epoch: 209 | loss: 0.0614\n",
            "epoch: 219 | loss: 0.0609\n",
            "epoch: 229 | loss: 0.0604\n",
            "epoch: 239 | loss: 0.0600\n",
            "epoch: 249 | loss: 0.0596\n",
            "epoch: 259 | loss: 0.0593\n",
            "epoch: 269 | loss: 0.0589\n",
            "epoch: 279 | loss: 0.0586\n",
            "epoch: 289 | loss: 0.0582\n",
            "epoch: 299 | loss: 0.0579\n",
            "epoch: 309 | loss: 0.0576\n",
            "epoch: 319 | loss: 0.0574\n",
            "epoch: 329 | loss: 0.0571\n",
            "epoch: 339 | loss: 0.0568\n",
            "epoch: 349 | loss: 0.0566\n",
            "epoch: 359 | loss: 0.0563\n",
            "epoch: 369 | loss: 0.0561\n",
            "epoch: 379 | loss: 0.0559\n",
            "epoch: 389 | loss: 0.0557\n",
            "epoch: 399 | loss: 0.0555\n",
            "epoch: 409 | loss: 0.0553\n",
            "epoch: 419 | loss: 0.0551\n",
            "epoch: 429 | loss: 0.0549\n",
            "epoch: 439 | loss: 0.0547\n",
            "epoch: 449 | loss: 0.0545\n",
            "epoch: 459 | loss: 0.0544\n",
            "epoch: 469 | loss: 0.0542\n",
            "epoch: 479 | loss: 0.0540\n",
            "epoch: 489 | loss: 0.0539\n",
            "epoch: 499 | loss: 0.0537\n"
          ]
        }
      ]
    },
    {
      "cell_type": "code",
      "source": [
        "# Accuracy Test\n",
        "with torch.no_grad():\n",
        "  y_predicted = model(X_test)\n",
        "  y_predicted_cls = y_predicted.round()\n",
        "  acc = y_predicted_cls.eq(y_test).sum() / float(y_test.shape[0])\n",
        "  print(f'Accuracy: {acc:.5f}')"
      ],
      "metadata": {
        "colab": {
          "base_uri": "https://localhost:8080/"
        },
        "id": "3M8_S6EhOZNM",
        "outputId": "345caebb-e54e-4cdd-c723-559536d2a283"
      },
      "execution_count": 26,
      "outputs": [
        {
          "output_type": "stream",
          "name": "stdout",
          "text": [
            "Accuracy: 0.98246\n"
          ]
        }
      ]
    },
    {
      "cell_type": "code",
      "source": [],
      "metadata": {
        "id": "HDlgLY9ZQY0i"
      },
      "execution_count": 26,
      "outputs": []
    }
  ]
}