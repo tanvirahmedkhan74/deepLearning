{
  "nbformat": 4,
  "nbformat_minor": 0,
  "metadata": {
    "colab": {
      "provenance": []
    },
    "kernelspec": {
      "name": "python3",
      "display_name": "Python 3"
    },
    "language_info": {
      "name": "python"
    }
  },
  "cells": [
    {
      "cell_type": "code",
      "execution_count": 10,
      "metadata": {
        "id": "MYRQi8PpXeGi"
      },
      "outputs": [],
      "source": [
        "import torch\n",
        "import torchvision\n",
        "import numpy as np\n",
        "import math\n",
        "from torch.utils.data import Dataset, DataLoader"
      ]
    },
    {
      "cell_type": "code",
      "source": [
        "class WineDataset(Dataset):\n",
        "  def __init__(self):\n",
        "    xy = np.loadtxt(fname=\"./Data/Wine/wine.csv\", delimiter=\",\", skiprows=1, dtype=np.float32)\n",
        "    self.x = torch.from_numpy(xy[:, 1:])\n",
        "    self.y = torch.from_numpy(xy[:, [0]]) # nsamples, 1\n",
        "    self.n_samples = xy.shape[0]\n",
        "\n",
        "  def __getitem__(self, index):\n",
        "    return self.x[index], self.y[index]\n",
        "\n",
        "  def __len__(self):\n",
        "    return self.n_samples"
      ],
      "metadata": {
        "id": "IG6BFrCCXuRo"
      },
      "execution_count": 11,
      "outputs": []
    },
    {
      "cell_type": "code",
      "source": [
        "dataset = WineDataset()\n",
        "first_data = dataset[0]\n",
        "\n",
        "features, label = first_data"
      ],
      "metadata": {
        "id": "Svcm7stuZtFy"
      },
      "execution_count": 12,
      "outputs": []
    },
    {
      "cell_type": "code",
      "source": [
        "# Using the DataLoader\n",
        "dataloader = DataLoader(dataset=dataset, batch_size=5, shuffle=True, num_workers=2)\n",
        "\n",
        "dataiter = iter(dataloader)\n",
        "data = dataiter.__next__()\n",
        "\n",
        "features, labels = data\n",
        "print(features, labels)"
      ],
      "metadata": {
        "colab": {
          "base_uri": "https://localhost:8080/"
        },
        "id": "JIKcBoWRa6hf",
        "outputId": "09d9394f-96fe-42f0-a95b-7e6ab7586876"
      },
      "execution_count": 14,
      "outputs": [
        {
          "output_type": "stream",
          "name": "stdout",
          "text": [
            "tensor([[1.3740e+01, 1.6700e+00, 2.2500e+00, 1.6400e+01, 1.1800e+02, 2.6000e+00,\n",
            "         2.9000e+00, 2.1000e-01, 1.6200e+00, 5.8500e+00, 9.2000e-01, 3.2000e+00,\n",
            "         1.0600e+03],\n",
            "        [1.2600e+01, 1.3400e+00, 1.9000e+00, 1.8500e+01, 8.8000e+01, 1.4500e+00,\n",
            "         1.3600e+00, 2.9000e-01, 1.3500e+00, 2.4500e+00, 1.0400e+00, 2.7700e+00,\n",
            "         5.6200e+02],\n",
            "        [1.3640e+01, 3.1000e+00, 2.5600e+00, 1.5200e+01, 1.1600e+02, 2.7000e+00,\n",
            "         3.0300e+00, 1.7000e-01, 1.6600e+00, 5.1000e+00, 9.6000e-01, 3.3600e+00,\n",
            "         8.4500e+02],\n",
            "        [1.2290e+01, 1.6100e+00, 2.2100e+00, 2.0400e+01, 1.0300e+02, 1.1000e+00,\n",
            "         1.0200e+00, 3.7000e-01, 1.4600e+00, 3.0500e+00, 9.0600e-01, 1.8200e+00,\n",
            "         8.7000e+02],\n",
            "        [1.4380e+01, 3.5900e+00, 2.2800e+00, 1.6000e+01, 1.0200e+02, 3.2500e+00,\n",
            "         3.1700e+00, 2.7000e-01, 2.1900e+00, 4.9000e+00, 1.0400e+00, 3.4400e+00,\n",
            "         1.0650e+03]]) tensor([[1.],\n",
            "        [2.],\n",
            "        [1.],\n",
            "        [2.],\n",
            "        [1.]])\n"
          ]
        }
      ]
    },
    {
      "cell_type": "code",
      "source": [
        "n_epochs = 2\n",
        "total_samples = len(dataset)\n",
        "n_iterations = math.ceil(total_samples/5) # batch size is 5\n",
        "\n",
        "for epoch in range(n_epochs):\n",
        "  for i, (inputs, labels) in enumerate(dataloader):\n",
        "    print(f'Epoch: {epoch+1}/{n_epochs} | Iteration: {i+1}/{n_iterations} | inputs: {inputs.shape}')"
      ],
      "metadata": {
        "colab": {
          "base_uri": "https://localhost:8080/"
        },
        "id": "HHwsXn5vcPXq",
        "outputId": "d1b97a52-c7e9-4ce9-c9e6-9ab45a587ddd"
      },
      "execution_count": 16,
      "outputs": [
        {
          "output_type": "stream",
          "name": "stdout",
          "text": [
            "Epoch: 1/2 | Iteration: 1/36 | inputs: torch.Size([5, 13])\n",
            "Epoch: 1/2 | Iteration: 2/36 | inputs: torch.Size([5, 13])\n",
            "Epoch: 1/2 | Iteration: 3/36 | inputs: torch.Size([5, 13])\n",
            "Epoch: 1/2 | Iteration: 4/36 | inputs: torch.Size([5, 13])\n",
            "Epoch: 1/2 | Iteration: 5/36 | inputs: torch.Size([5, 13])\n",
            "Epoch: 1/2 | Iteration: 6/36 | inputs: torch.Size([5, 13])\n",
            "Epoch: 1/2 | Iteration: 7/36 | inputs: torch.Size([5, 13])\n",
            "Epoch: 1/2 | Iteration: 8/36 | inputs: torch.Size([5, 13])\n",
            "Epoch: 1/2 | Iteration: 9/36 | inputs: torch.Size([5, 13])\n",
            "Epoch: 1/2 | Iteration: 10/36 | inputs: torch.Size([5, 13])\n",
            "Epoch: 1/2 | Iteration: 11/36 | inputs: torch.Size([5, 13])\n",
            "Epoch: 1/2 | Iteration: 12/36 | inputs: torch.Size([5, 13])\n",
            "Epoch: 1/2 | Iteration: 13/36 | inputs: torch.Size([5, 13])\n",
            "Epoch: 1/2 | Iteration: 14/36 | inputs: torch.Size([5, 13])\n",
            "Epoch: 1/2 | Iteration: 15/36 | inputs: torch.Size([5, 13])\n",
            "Epoch: 1/2 | Iteration: 16/36 | inputs: torch.Size([5, 13])\n",
            "Epoch: 1/2 | Iteration: 17/36 | inputs: torch.Size([5, 13])\n",
            "Epoch: 1/2 | Iteration: 18/36 | inputs: torch.Size([5, 13])\n",
            "Epoch: 1/2 | Iteration: 19/36 | inputs: torch.Size([5, 13])\n",
            "Epoch: 1/2 | Iteration: 20/36 | inputs: torch.Size([5, 13])\n",
            "Epoch: 1/2 | Iteration: 21/36 | inputs: torch.Size([5, 13])\n",
            "Epoch: 1/2 | Iteration: 22/36 | inputs: torch.Size([5, 13])\n",
            "Epoch: 1/2 | Iteration: 23/36 | inputs: torch.Size([5, 13])\n",
            "Epoch: 1/2 | Iteration: 24/36 | inputs: torch.Size([5, 13])\n",
            "Epoch: 1/2 | Iteration: 25/36 | inputs: torch.Size([5, 13])\n",
            "Epoch: 1/2 | Iteration: 26/36 | inputs: torch.Size([5, 13])\n",
            "Epoch: 1/2 | Iteration: 27/36 | inputs: torch.Size([5, 13])\n",
            "Epoch: 1/2 | Iteration: 28/36 | inputs: torch.Size([5, 13])\n",
            "Epoch: 1/2 | Iteration: 29/36 | inputs: torch.Size([5, 13])\n",
            "Epoch: 1/2 | Iteration: 30/36 | inputs: torch.Size([5, 13])\n",
            "Epoch: 1/2 | Iteration: 31/36 | inputs: torch.Size([5, 13])\n",
            "Epoch: 1/2 | Iteration: 32/36 | inputs: torch.Size([5, 13])\n",
            "Epoch: 1/2 | Iteration: 33/36 | inputs: torch.Size([5, 13])\n",
            "Epoch: 1/2 | Iteration: 34/36 | inputs: torch.Size([5, 13])\n",
            "Epoch: 1/2 | Iteration: 35/36 | inputs: torch.Size([5, 13])\n",
            "Epoch: 1/2 | Iteration: 36/36 | inputs: torch.Size([3, 13])\n",
            "Epoch: 2/2 | Iteration: 1/36 | inputs: torch.Size([5, 13])\n",
            "Epoch: 2/2 | Iteration: 2/36 | inputs: torch.Size([5, 13])\n",
            "Epoch: 2/2 | Iteration: 3/36 | inputs: torch.Size([5, 13])\n",
            "Epoch: 2/2 | Iteration: 4/36 | inputs: torch.Size([5, 13])\n",
            "Epoch: 2/2 | Iteration: 5/36 | inputs: torch.Size([5, 13])\n",
            "Epoch: 2/2 | Iteration: 6/36 | inputs: torch.Size([5, 13])\n",
            "Epoch: 2/2 | Iteration: 7/36 | inputs: torch.Size([5, 13])\n",
            "Epoch: 2/2 | Iteration: 8/36 | inputs: torch.Size([5, 13])\n",
            "Epoch: 2/2 | Iteration: 9/36 | inputs: torch.Size([5, 13])\n",
            "Epoch: 2/2 | Iteration: 10/36 | inputs: torch.Size([5, 13])\n",
            "Epoch: 2/2 | Iteration: 11/36 | inputs: torch.Size([5, 13])\n",
            "Epoch: 2/2 | Iteration: 12/36 | inputs: torch.Size([5, 13])\n",
            "Epoch: 2/2 | Iteration: 13/36 | inputs: torch.Size([5, 13])\n",
            "Epoch: 2/2 | Iteration: 14/36 | inputs: torch.Size([5, 13])\n",
            "Epoch: 2/2 | Iteration: 15/36 | inputs: torch.Size([5, 13])\n",
            "Epoch: 2/2 | Iteration: 16/36 | inputs: torch.Size([5, 13])\n",
            "Epoch: 2/2 | Iteration: 17/36 | inputs: torch.Size([5, 13])\n",
            "Epoch: 2/2 | Iteration: 18/36 | inputs: torch.Size([5, 13])\n",
            "Epoch: 2/2 | Iteration: 19/36 | inputs: torch.Size([5, 13])\n",
            "Epoch: 2/2 | Iteration: 20/36 | inputs: torch.Size([5, 13])\n",
            "Epoch: 2/2 | Iteration: 21/36 | inputs: torch.Size([5, 13])\n",
            "Epoch: 2/2 | Iteration: 22/36 | inputs: torch.Size([5, 13])\n",
            "Epoch: 2/2 | Iteration: 23/36 | inputs: torch.Size([5, 13])\n",
            "Epoch: 2/2 | Iteration: 24/36 | inputs: torch.Size([5, 13])\n",
            "Epoch: 2/2 | Iteration: 25/36 | inputs: torch.Size([5, 13])\n",
            "Epoch: 2/2 | Iteration: 26/36 | inputs: torch.Size([5, 13])\n",
            "Epoch: 2/2 | Iteration: 27/36 | inputs: torch.Size([5, 13])\n",
            "Epoch: 2/2 | Iteration: 28/36 | inputs: torch.Size([5, 13])\n",
            "Epoch: 2/2 | Iteration: 29/36 | inputs: torch.Size([5, 13])\n",
            "Epoch: 2/2 | Iteration: 30/36 | inputs: torch.Size([5, 13])\n",
            "Epoch: 2/2 | Iteration: 31/36 | inputs: torch.Size([5, 13])\n",
            "Epoch: 2/2 | Iteration: 32/36 | inputs: torch.Size([5, 13])\n",
            "Epoch: 2/2 | Iteration: 33/36 | inputs: torch.Size([5, 13])\n",
            "Epoch: 2/2 | Iteration: 34/36 | inputs: torch.Size([5, 13])\n",
            "Epoch: 2/2 | Iteration: 35/36 | inputs: torch.Size([5, 13])\n",
            "Epoch: 2/2 | Iteration: 36/36 | inputs: torch.Size([3, 13])\n"
          ]
        }
      ]
    },
    {
      "cell_type": "code",
      "source": [],
      "metadata": {
        "id": "zGmV5vB-er-L"
      },
      "execution_count": null,
      "outputs": []
    }
  ]
}